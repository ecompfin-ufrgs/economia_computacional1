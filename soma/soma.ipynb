{
 "cells": [
  {
   "cell_type": "markdown",
   "id": "ac0aa268-3674-4799-88d1-ebe20e7f242b",
   "metadata": {},
   "source": [
    "# Codificação do programa soma\n",
    "\n",
    "\n",
    "##  Requisitos\n",
    "\n",
    "O problema em questão é desenvolver um programa que leia dois números inteiros digitados pelo usuário e ponha na tela a soma deles."
   ]
  },
  {
   "cell_type": "code",
   "execution_count": 12,
   "id": "a8cba842-b021-4c28-9a26-07d556775f4e",
   "metadata": {},
   "outputs": [
    {
     "name": "stdin",
     "output_type": "stream",
     "text": [
      "Qual é o primeiro número?  5\n",
      "Qual é o segundo número?  3\n"
     ]
    },
    {
     "name": "stdout",
     "output_type": "stream",
     "text": [
      "8\n"
     ]
    }
   ],
   "source": [
    "# Alocação de memória\n",
    "\n",
    "numero_1: int = 0\n",
    "\n",
    "numero_2: int = 0\n",
    "\n",
    "soma: int = 0\n",
    "\n",
    "\n",
    "\n",
    "\n",
    "# Entrada de dados\n",
    "\n",
    "numero_1 = int(input(\"Qual é o primeiro número? \"))\n",
    "\n",
    "numero_2 = int(input(\"Qual é o segundo número? \"))\n",
    "\n",
    "# Processamento de dados\n",
    "\n",
    "soma = numero_1 + numero_2\n",
    "\n",
    "\n",
    "# Saída de dados\n",
    "\n",
    "\n",
    "print(soma)"
   ]
  },
  {
   "cell_type": "code",
   "execution_count": 13,
   "id": "888e1cde-ff1e-4e55-ac79-97a8efc9a271",
   "metadata": {},
   "outputs": [
    {
     "name": "stdin",
     "output_type": "stream",
     "text": [
      "Digite a parcela 1:  5\n",
      "Digite a parcela 2:  4\n"
     ]
    },
    {
     "name": "stdout",
     "output_type": "stream",
     "text": [
      "A soma dos números digitados é igual a 9.\n"
     ]
    }
   ],
   "source": [
    "\"\"\"\n",
    "Programa soma\n",
    "Descrição: Este programa lê dois números inteiros digitados pelo usuário e p~e na tela a soma deles.\n",
    "Autor: Eu\n",
    "Data: 12/04/2024\n",
    "Versão: 0.0.2\n",
    "\"\"\"\n",
    "\n",
    "# Alocação de memória\n",
    "\n",
    "i: int = 0\n",
    "\n",
    "numero: int = 0\n",
    "\n",
    "soma: int = 0\n",
    "\n",
    "\n",
    "\n",
    "\n",
    "# Entrada e processamento de dados\n",
    "\n",
    "\n",
    "while i < 2:\n",
    "    numero = int(input(f\"Digite a parcela {i+1}: \"))\n",
    "    soma = soma + numero\n",
    "    i+=1\n",
    "\n",
    "\n",
    "# Saída de dados\n",
    "\n",
    "\n",
    "print(f'A soma dos números digitados é igual a {soma}.')"
   ]
  },
  {
   "cell_type": "code",
   "execution_count": null,
   "id": "2618e420-55d6-48fc-a385-cdfef9c719ef",
   "metadata": {},
   "outputs": [],
   "source": []
  }
 ],
 "metadata": {
  "kernelspec": {
   "display_name": "Python 3 (ipykernel)",
   "language": "python",
   "name": "python3"
  },
  "language_info": {
   "codemirror_mode": {
    "name": "ipython",
    "version": 3
   },
   "file_extension": ".py",
   "mimetype": "text/x-python",
   "name": "python",
   "nbconvert_exporter": "python",
   "pygments_lexer": "ipython3",
   "version": "3.11.5"
  }
 },
 "nbformat": 4,
 "nbformat_minor": 5
}
