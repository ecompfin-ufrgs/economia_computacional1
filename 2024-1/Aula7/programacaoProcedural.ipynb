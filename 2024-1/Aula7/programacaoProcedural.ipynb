{
 "cells": [
  {
   "cell_type": "markdown",
   "id": "34907587-cf8a-44f2-91e2-c39025d6a879",
   "metadata": {},
   "source": [
    "# Programação procedural"
   ]
  },
  {
   "cell_type": "code",
   "execution_count": 4,
   "id": "1f68de26-4b85-4fae-85fa-f717aa99e4d5",
   "metadata": {},
   "outputs": [],
   "source": [
    "# LIstagem 1: definição da função PYthon soma (função pura)\n",
    "\n",
    "def soma(x,y):\n",
    "    resultado = x + y\n",
    "    return resultado\n",
    "\n",
    "\n",
    "    "
   ]
  },
  {
   "cell_type": "code",
   "execution_count": 3,
   "id": "08b154f3-6b60-4abf-90a6-56719c11738c",
   "metadata": {},
   "outputs": [
    {
     "data": {
      "text/plain": [
       "7"
      ]
     },
     "execution_count": 3,
     "metadata": {},
     "output_type": "execute_result"
    }
   ],
   "source": [
    "soma(3,4)"
   ]
  },
  {
   "cell_type": "code",
   "execution_count": 5,
   "id": "cdb2d09a-f7f1-4821-8d30-bacb8f3430c0",
   "metadata": {},
   "outputs": [],
   "source": [
    "# Listagem 2: definição da função Python imprimidora7 (procedimento)\n",
    "\n",
    "def imprimidora7():\n",
    "    print(7)\n",
    "    \n",
    "    "
   ]
  },
  {
   "cell_type": "code",
   "execution_count": 6,
   "id": "028d7f7b-da81-489e-8e40-a81829b430a2",
   "metadata": {},
   "outputs": [
    {
     "name": "stdout",
     "output_type": "stream",
     "text": [
      "7\n"
     ]
    }
   ],
   "source": [
    "imprimidora7()"
   ]
  },
  {
   "cell_type": "code",
   "execution_count": 9,
   "id": "07874819-ad04-4414-bc12-b2c3b19a8e3a",
   "metadata": {},
   "outputs": [],
   "source": [
    "# Listagem 3: definição da função PYthon importadora numpy (procedimento)\n",
    "\n",
    "def importadora_numpy():\n",
    "    import numpy\n",
    "    "
   ]
  },
  {
   "cell_type": "code",
   "execution_count": 10,
   "id": "c6521778-7e0f-4bf4-a9d4-900c1ee02445",
   "metadata": {},
   "outputs": [],
   "source": [
    "importadora_numpy()"
   ]
  },
  {
   "cell_type": "code",
   "execution_count": 11,
   "id": "14a60844-dfbc-488a-b9f0-6909ef18ee90",
   "metadata": {},
   "outputs": [],
   "source": [
    "# Listagem 4: definição da função PYthon inutil (procedimento)\n",
    "\n",
    "def inutil():\n",
    "    2 + 3\n",
    "    4 + 5\n",
    "    23 +56\n",
    "\n",
    "    "
   ]
  },
  {
   "cell_type": "code",
   "execution_count": 12,
   "id": "b4eb4f70-92a3-4ff5-8f9a-42db6e151691",
   "metadata": {},
   "outputs": [],
   "source": [
    "inutil()"
   ]
  },
  {
   "cell_type": "code",
   "execution_count": 17,
   "id": "86252dbe-5615-476e-a485-412494159b3e",
   "metadata": {},
   "outputs": [],
   "source": [
    "# Listagem 5: definição da função Python imprimidora_com_\n",
    "\n",
    "x = 7\n",
    "def imprimidora():\n",
    "    return x"
   ]
  },
  {
   "cell_type": "code",
   "execution_count": 18,
   "id": "1b9e0d6a-ff9b-48ca-981c-77aa97cf901a",
   "metadata": {},
   "outputs": [
    {
     "data": {
      "text/plain": [
       "7"
      ]
     },
     "execution_count": 18,
     "metadata": {},
     "output_type": "execute_result"
    }
   ],
   "source": [
    "imprimidora()"
   ]
  },
  {
   "cell_type": "code",
   "execution_count": 19,
   "id": "54a24ff6-1ba6-45e5-bafa-4389a2ac5d75",
   "metadata": {},
   "outputs": [
    {
     "data": {
      "text/plain": [
       "9"
      ]
     },
     "execution_count": 19,
     "metadata": {},
     "output_type": "execute_result"
    }
   ],
   "source": [
    "x = 9\n",
    "imprimidora()"
   ]
  },
  {
   "cell_type": "code",
   "execution_count": 20,
   "id": "249af170-f318-4223-b3a2-1a12884e5966",
   "metadata": {},
   "outputs": [],
   "source": [
    "# Listagem 6: função somaproduto((x,y),(z,w))\n",
    "\n",
    "def somaproduto(x,y,z,w):\n",
    "    resultado = x*z + y*w\n",
    "    return resultado"
   ]
  },
  {
   "cell_type": "markdown",
   "id": "cf2f287a-2509-4445-b4a7-c413b3f6fd93",
   "metadata": {},
   "source": [
    "## Exemplos de uso da função somaproduto\n",
    "\n"
   ]
  },
  {
   "cell_type": "markdown",
   "id": "74f747a8-98b1-4de1-bc3f-5041fa3832ce",
   "metadata": {},
   "source": [
    "### 1. Considere os vetores (1,3) e (4,5).  Determine seu produto escalar."
   ]
  },
  {
   "cell_type": "code",
   "execution_count": 21,
   "id": "ed48c8ce-19ea-4100-ac3e-818b90a770d0",
   "metadata": {},
   "outputs": [
    {
     "data": {
      "text/plain": [
       "19"
      ]
     },
     "execution_count": 21,
     "metadata": {},
     "output_type": "execute_result"
    }
   ],
   "source": [
    "somaproduto(1,3,4,5)"
   ]
  },
  {
   "cell_type": "markdown",
   "id": "ed7c561b-6bbf-4d95-801a-86864ce6f56e",
   "metadata": {},
   "source": [
    "### Suponha um indivíduo que adquiriu uma cesta de consumo (1,3) aos preços p1 = 4 e p2 = 5.  Determine a despesa do indivíduo."
   ]
  },
  {
   "cell_type": "code",
   "execution_count": 22,
   "id": "de8be369-c4a2-470e-8af4-60ff8be2aeab",
   "metadata": {},
   "outputs": [
    {
     "data": {
      "text/plain": [
       "19"
      ]
     },
     "execution_count": 22,
     "metadata": {},
     "output_type": "execute_result"
    }
   ],
   "source": [
    "somaproduto(1,3,4,5)"
   ]
  },
  {
   "cell_type": "code",
   "execution_count": 33,
   "id": "07d51616-b1a4-4b3e-afde-7e8ff694c8ed",
   "metadata": {},
   "outputs": [],
   "source": [
    "# Listagem 7: função entrada_dados()\n",
    "\n",
    "def entrada_dados():\n",
    "    global dados\n",
    "    casa = 7 # esta variável tem escopo local\n",
    "    dados = input(\"QUAL O DADO: \")\n",
    "    "
   ]
  },
  {
   "cell_type": "code",
   "execution_count": 34,
   "id": "71fda965-224d-45b1-a8c0-661e26427d58",
   "metadata": {},
   "outputs": [
    {
     "name": "stdin",
     "output_type": "stream",
     "text": [
      "QUAL O DADO:  9\n"
     ]
    }
   ],
   "source": [
    "entrada_dados()"
   ]
  },
  {
   "cell_type": "code",
   "execution_count": 35,
   "id": "14e65a05-f049-4b89-bf42-5e73f7c3e8cd",
   "metadata": {},
   "outputs": [
    {
     "data": {
      "text/plain": [
       "'9'"
      ]
     },
     "execution_count": 35,
     "metadata": {},
     "output_type": "execute_result"
    }
   ],
   "source": [
    "dados"
   ]
  },
  {
   "cell_type": "code",
   "execution_count": 36,
   "id": "0da68877-84fe-4127-8bcd-dffc7a74005d",
   "metadata": {},
   "outputs": [
    {
     "ename": "NameError",
     "evalue": "name 'casa' is not defined",
     "output_type": "error",
     "traceback": [
      "\u001b[1;31m---------------------------------------------------------------------------\u001b[0m",
      "\u001b[1;31mNameError\u001b[0m                                 Traceback (most recent call last)",
      "Cell \u001b[1;32mIn[36], line 1\u001b[0m\n\u001b[1;32m----> 1\u001b[0m casa\n",
      "\u001b[1;31mNameError\u001b[0m: name 'casa' is not defined"
     ]
    }
   ],
   "source": [
    "casa"
   ]
  },
  {
   "cell_type": "markdown",
   "id": "b90ee757-b6af-4379-8ff7-9ee410d76568",
   "metadata": {},
   "source": [
    "## Escopo local da função\n",
    "\n",
    "Escopo local da função é tudo aquilo que está dentro do seu código ou no seu parâmetro.  Existem basicamente dois escopos:\n",
    "- local, e\n",
    "- global."
   ]
  },
  {
   "cell_type": "code",
   "execution_count": null,
   "id": "e2e1620b-44bd-42ff-b685-b9802bb9dd2b",
   "metadata": {},
   "outputs": [],
   "source": []
  }
 ],
 "metadata": {
  "kernelspec": {
   "display_name": "Python 3 (ipykernel)",
   "language": "python",
   "name": "python3"
  },
  "language_info": {
   "codemirror_mode": {
    "name": "ipython",
    "version": 3
   },
   "file_extension": ".py",
   "mimetype": "text/x-python",
   "name": "python",
   "nbconvert_exporter": "python",
   "pygments_lexer": "ipython3",
   "version": "3.11.5"
  }
 },
 "nbformat": 4,
 "nbformat_minor": 5
}
