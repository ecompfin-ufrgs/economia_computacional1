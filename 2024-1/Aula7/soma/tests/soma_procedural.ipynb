{
 "cells": [
  {
   "cell_type": "markdown",
   "id": "a3f0f4f9-ea5b-4a63-a084-5883cdc32a18",
   "metadata": {},
   "source": [
    "# Soma procedural\n"
   ]
  },
  {
   "cell_type": "code",
   "execution_count": 6,
   "id": "d838c3a6-677e-46e6-9eef-ebdc87726410",
   "metadata": {},
   "outputs": [],
   "source": [
    "# Definição da função de entrada\n",
    "\n",
    "def entrada_dados():\n",
    "    dados = []\n",
    "    i = 0\n",
    "    while i < 2:\n",
    "        dados.append(int(input(f'\\nDigite a parcela {i + 1}: ')))\n",
    "        i+=1\n",
    "    return dados"
   ]
  },
  {
   "cell_type": "code",
   "execution_count": 7,
   "id": "fdde18c1-5093-4d89-9701-13dd0e38056f",
   "metadata": {},
   "outputs": [
    {
     "name": "stdin",
     "output_type": "stream",
     "text": [
      "\n",
      "Digite a parcela 1:  5\n",
      "\n",
      "Digite a parcela 2:  6\n"
     ]
    }
   ],
   "source": [
    "dados = entrada_dados()"
   ]
  },
  {
   "cell_type": "code",
   "execution_count": 8,
   "id": "24cef5d0-d32b-466b-bd2f-e20433a28a0e",
   "metadata": {},
   "outputs": [],
   "source": [
    "# Definição da função soma\n",
    "\n",
    "def soma(numero_1, numero_2):\n",
    "    resultado = numero_1 + numero_2\n",
    "    return resultado"
   ]
  },
  {
   "cell_type": "code",
   "execution_count": 9,
   "id": "b83bf4c7-474b-4d7f-9950-3315b94fcfc1",
   "metadata": {},
   "outputs": [],
   "source": [
    "resultado = soma(dados[0], dados[1])"
   ]
  },
  {
   "cell_type": "code",
   "execution_count": 10,
   "id": "f2c530ed-6bb9-413e-b986-cbbe69387128",
   "metadata": {},
   "outputs": [
    {
     "data": {
      "text/plain": [
       "11"
      ]
     },
     "execution_count": 10,
     "metadata": {},
     "output_type": "execute_result"
    }
   ],
   "source": [
    "resultado"
   ]
  },
  {
   "cell_type": "code",
   "execution_count": 15,
   "id": "1c3a2398-ef5a-495e-aafb-451d7c96a7ec",
   "metadata": {},
   "outputs": [],
   "source": [
    "#$ Definição da função de saida\n",
    "\n",
    "def saida_dados(x):\n",
    "    print(f'\\nA soma é igual a {x}.')\n"
   ]
  },
  {
   "cell_type": "code",
   "execution_count": 12,
   "id": "2a9407fd-c963-4df7-8e84-87f91f9e9619",
   "metadata": {},
   "outputs": [
    {
     "name": "stdout",
     "output_type": "stream",
     "text": [
      "11\n"
     ]
    }
   ],
   "source": [
    "saida_dados(resultado)"
   ]
  },
  {
   "cell_type": "code",
   "execution_count": 16,
   "id": "6b5cfb2c-1930-4bc6-93da-96581814a184",
   "metadata": {},
   "outputs": [],
   "source": [
    "def main():\n",
    "    dados = entrada_dados()\n",
    "    resultado = soma(dados[0], dados[1])\n",
    "    saida_dados(resultado)"
   ]
  },
  {
   "cell_type": "code",
   "execution_count": 17,
   "id": "62c09779-009a-48fc-96c3-76a5e2c09666",
   "metadata": {},
   "outputs": [
    {
     "name": "stdin",
     "output_type": "stream",
     "text": [
      "\n",
      "Digite a parcela 1:  5\n",
      "\n",
      "Digite a parcela 2:  6\n"
     ]
    },
    {
     "name": "stdout",
     "output_type": "stream",
     "text": [
      "\n",
      "A soma é igual a 11.\n"
     ]
    }
   ],
   "source": [
    "main()"
   ]
  },
  {
   "cell_type": "code",
   "execution_count": null,
   "id": "a9f92850-25be-4b34-887a-815c53351bdb",
   "metadata": {},
   "outputs": [],
   "source": []
  }
 ],
 "metadata": {
  "kernelspec": {
   "display_name": "Python 3 (ipykernel)",
   "language": "python",
   "name": "python3"
  },
  "language_info": {
   "codemirror_mode": {
    "name": "ipython",
    "version": 3
   },
   "file_extension": ".py",
   "mimetype": "text/x-python",
   "name": "python",
   "nbconvert_exporter": "python",
   "pygments_lexer": "ipython3",
   "version": "3.11.5"
  }
 },
 "nbformat": 4,
 "nbformat_minor": 5
}
