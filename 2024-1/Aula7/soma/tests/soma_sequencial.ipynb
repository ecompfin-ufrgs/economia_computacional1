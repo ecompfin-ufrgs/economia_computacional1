{
 "cells": [
  {
   "cell_type": "markdown",
   "id": "6a48d79c-faaf-4519-9133-f32a6d9f4b62",
   "metadata": {},
   "source": [
    "# Teste do programa soma_sequencial"
   ]
  },
  {
   "cell_type": "code",
   "execution_count": 1,
   "id": "526f486e-331e-45fb-96b4-f888d0a05f5c",
   "metadata": {},
   "outputs": [],
   "source": [
    "# Definição de variáveis\n",
    "\n",
    "numero_1 = 0\n",
    "numero_2 = 0\n",
    "soma = 0"
   ]
  },
  {
   "cell_type": "code",
   "execution_count": 2,
   "id": "eca38957-890a-47d0-9642-9c00c0bc9b05",
   "metadata": {},
   "outputs": [
    {
     "name": "stdin",
     "output_type": "stream",
     "text": [
      "\n",
      "Digite o primeiro número:  2\n",
      "\n",
      "Digite o segundo número:  5\n"
     ]
    }
   ],
   "source": [
    "# Entrada de dados\n",
    "\n",
    "numero_1 = int(input(\"\\nDigite o primeiro número: \"))\n",
    "numero_2 = int(input(\"\\nDigite o segundo número: \"))"
   ]
  },
  {
   "cell_type": "code",
   "execution_count": 3,
   "id": "a3e46568-6bc4-4f74-9ac0-433e521475cc",
   "metadata": {},
   "outputs": [],
   "source": [
    "# Processamento de dados\n",
    "\n",
    "soma = numero_1 + numero_2"
   ]
  },
  {
   "cell_type": "code",
   "execution_count": 4,
   "id": "2d61225f-2856-4d94-9bee-e3e1bb04d74a",
   "metadata": {},
   "outputs": [
    {
     "name": "stdout",
     "output_type": "stream",
     "text": [
      "7\n"
     ]
    }
   ],
   "source": [
    "# Saída de dados\n",
    "\n",
    "print(soma)"
   ]
  },
  {
   "cell_type": "code",
   "execution_count": null,
   "id": "e26ec6e5-55b9-4486-aebf-6ea3a60e7530",
   "metadata": {},
   "outputs": [],
   "source": []
  }
 ],
 "metadata": {
  "kernelspec": {
   "display_name": "Python 3 (ipykernel)",
   "language": "python",
   "name": "python3"
  },
  "language_info": {
   "codemirror_mode": {
    "name": "ipython",
    "version": 3
   },
   "file_extension": ".py",
   "mimetype": "text/x-python",
   "name": "python",
   "nbconvert_exporter": "python",
   "pygments_lexer": "ipython3",
   "version": "3.11.5"
  }
 },
 "nbformat": 4,
 "nbformat_minor": 5
}
