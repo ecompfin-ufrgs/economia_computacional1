{
 "cells": [
  {
   "cell_type": "markdown",
   "id": "f4e77075-7fc7-4682-9867-1af241eb1d3b",
   "metadata": {},
   "source": [
    "# Soma estruturado\n",
    "\n"
   ]
  },
  {
   "cell_type": "code",
   "execution_count": 1,
   "id": "fb2fab84-6ee2-4ec0-9291-51a2fde571e5",
   "metadata": {},
   "outputs": [],
   "source": [
    "# Definição de variáveis\n",
    "i = 0\n",
    "numeros = [0,0]\n",
    "soma = 0"
   ]
  },
  {
   "cell_type": "code",
   "execution_count": 2,
   "id": "31bcc39d-6c74-4173-ac56-10a4c3237bea",
   "metadata": {},
   "outputs": [
    {
     "name": "stdin",
     "output_type": "stream",
     "text": [
      "\n",
      "Digite a parcela 1:  5\n",
      "\n",
      "Digite a parcela 2:  6\n"
     ]
    }
   ],
   "source": [
    "# Entrada de dados\n",
    "while i < 2:\n",
    "    numeros[i] = int(input(f'\\nDigite a parcela {i+1}: '))\n",
    "    i+=1"
   ]
  },
  {
   "cell_type": "code",
   "execution_count": 3,
   "id": "2a1cbc57-4f59-4c0e-ac17-c58fb02ccec7",
   "metadata": {},
   "outputs": [],
   "source": [
    "# Processamento de dados\n",
    "for numero in numeros:\n",
    "    soma+=numero"
   ]
  },
  {
   "cell_type": "code",
   "execution_count": 4,
   "id": "b3a2e475-862f-4c56-a76b-9b96a633e3fb",
   "metadata": {},
   "outputs": [
    {
     "name": "stdout",
     "output_type": "stream",
     "text": [
      "\n",
      "A soma do número 5 com o número 6 é igual a 11.\n"
     ]
    }
   ],
   "source": [
    "# Saída de dados\n",
    "print(f'\\nA soma do número {numeros[0]} com o número {numeros[1]} é igual a {soma}.')"
   ]
  },
  {
   "cell_type": "code",
   "execution_count": null,
   "id": "803b4d5d-7a5c-4a3b-90e3-ca232103891c",
   "metadata": {},
   "outputs": [],
   "source": []
  }
 ],
 "metadata": {
  "kernelspec": {
   "display_name": "Python 3 (ipykernel)",
   "language": "python",
   "name": "python3"
  },
  "language_info": {
   "codemirror_mode": {
    "name": "ipython",
    "version": 3
   },
   "file_extension": ".py",
   "mimetype": "text/x-python",
   "name": "python",
   "nbconvert_exporter": "python",
   "pygments_lexer": "ipython3",
   "version": "3.11.5"
  }
 },
 "nbformat": 4,
 "nbformat_minor": 5
}
