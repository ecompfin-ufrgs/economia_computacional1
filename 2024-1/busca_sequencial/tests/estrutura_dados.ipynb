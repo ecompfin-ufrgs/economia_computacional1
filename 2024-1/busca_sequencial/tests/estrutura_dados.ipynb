{
 "cells": [
  {
   "cell_type": "markdown",
   "id": "cf92518b-7221-48a9-9b4e-5b1551821fe1",
   "metadata": {},
   "source": [
    "# Estruturas de dados"
   ]
  },
  {
   "cell_type": "markdown",
   "id": "11c106f3-5185-49c1-b574-c6044f0500c6",
   "metadata": {},
   "source": [
    "## List\n"
   ]
  },
  {
   "cell_type": "code",
   "execution_count": 1,
   "id": "f0f2f85a-09d4-49fa-9703-83c776ff9c66",
   "metadata": {},
   "outputs": [],
   "source": [
    "# Listagem 1:\n",
    "\n",
    "## Alocação de memória\n",
    "a = [1, 'b', 2.3]"
   ]
  },
  {
   "cell_type": "code",
   "execution_count": 2,
   "id": "dee5c1fd-0deb-420b-b337-1112aab648ce",
   "metadata": {},
   "outputs": [
    {
     "name": "stdout",
     "output_type": "stream",
     "text": [
      "[1, 'b', 2.3]\n"
     ]
    }
   ],
   "source": [
    "# Saída de dados\n",
    "\n",
    "print(a)"
   ]
  },
  {
   "cell_type": "code",
   "execution_count": 3,
   "id": "a74c3b09-19f3-4d35-8fde-59beab0f9362",
   "metadata": {},
   "outputs": [
    {
     "name": "stdout",
     "output_type": "stream",
     "text": [
      "1\n",
      "b\n",
      "2.3\n"
     ]
    },
    {
     "ename": "IndexError",
     "evalue": "list index out of range",
     "output_type": "error",
     "traceback": [
      "\u001b[1;31m---------------------------------------------------------------------------\u001b[0m",
      "\u001b[1;31mIndexError\u001b[0m                                Traceback (most recent call last)",
      "Cell \u001b[1;32mIn[3], line 6\u001b[0m\n\u001b[0;32m      4\u001b[0m \u001b[38;5;28mprint\u001b[39m(a[\u001b[38;5;241m1\u001b[39m])\n\u001b[0;32m      5\u001b[0m \u001b[38;5;28mprint\u001b[39m(a[\u001b[38;5;241m2\u001b[39m])\n\u001b[1;32m----> 6\u001b[0m \u001b[38;5;28mprint\u001b[39m(a[\u001b[38;5;241m3\u001b[39m])\n",
      "\u001b[1;31mIndexError\u001b[0m: list index out of range"
     ]
    }
   ],
   "source": [
    "# Acessando os elementod da lista\n",
    "\n",
    "print(a[0])\n",
    "print(a[1])\n",
    "print(a[2])\n",
    "print(a[3])\n"
   ]
  },
  {
   "cell_type": "markdown",
   "id": "8bf6c0b0-0b10-44e4-8519-f7c1be635868",
   "metadata": {},
   "source": [
    "### Operações com listas"
   ]
  },
  {
   "cell_type": "code",
   "execution_count": 4,
   "id": "d94f431e-dd11-48de-a1ad-6a36bd59a522",
   "metadata": {},
   "outputs": [
    {
     "name": "stdout",
     "output_type": "stream",
     "text": [
      "[2, 'b', 2.3]\n"
     ]
    }
   ],
   "source": [
    "# Modificando elementos da lista\n",
    "\n",
    "a[0] = 2\n",
    "print(a)"
   ]
  },
  {
   "cell_type": "code",
   "execution_count": 5,
   "id": "9a9235ac-f055-4a85-b48a-1d4a206e411f",
   "metadata": {},
   "outputs": [],
   "source": [
    "## Listagem 2: ordenação de listas\n",
    "\n",
    "# Alocação de memória (ou atribuição de variáveis)\n",
    "\n",
    "lista = [1, 5, 2, 87, 31]"
   ]
  },
  {
   "cell_type": "code",
   "execution_count": 7,
   "id": "8d6d6f9a-e76b-43f7-a605-d71a4d21461a",
   "metadata": {},
   "outputs": [
    {
     "name": "stdout",
     "output_type": "stream",
     "text": [
      "[1, 2, 5, 31, 87]\n"
     ]
    }
   ],
   "source": [
    "## Ordenação com a função sorted\n",
    "\n",
    "lista_ordenada_1 = sorted(lista)\n",
    "print(lista_ordenada_1)"
   ]
  },
  {
   "cell_type": "code",
   "execution_count": 8,
   "id": "7282a03b-ec93-4216-9bc4-876bf0bdc585",
   "metadata": {},
   "outputs": [
    {
     "name": "stdout",
     "output_type": "stream",
     "text": [
      "[1, 5, 2, 87, 31]\n"
     ]
    }
   ],
   "source": [
    "print(lista)"
   ]
  },
  {
   "cell_type": "code",
   "execution_count": 9,
   "id": "51964535-85a3-463d-8615-493f8d32c7b0",
   "metadata": {},
   "outputs": [
    {
     "name": "stdout",
     "output_type": "stream",
     "text": [
      "[1, 2, 5, 31, 87]\n"
     ]
    }
   ],
   "source": [
    "## Ordenação com o MÉTODO sort()\n",
    "\n",
    "lista.sort()\n",
    "print(lista)"
   ]
  },
  {
   "cell_type": "code",
   "execution_count": 10,
   "id": "d7ae8a81-3483-46f5-a9a4-03e852667cde",
   "metadata": {},
   "outputs": [
    {
     "name": "stdout",
     "output_type": "stream",
     "text": [
      "[1, 2, 5, 31, 87]\n"
     ]
    }
   ],
   "source": [
    "print(lista)"
   ]
  },
  {
   "cell_type": "markdown",
   "id": "6e2ce6d6-f927-47af-b5ba-019d71b48434",
   "metadata": {},
   "source": [
    "#### Busca sequencial\n",
    "\n"
   ]
  },
  {
   "cell_type": "code",
   "execution_count": 11,
   "id": "4dd9d5ff-352e-4558-b152-3b40134b20e0",
   "metadata": {},
   "outputs": [],
   "source": [
    "# Base de dados de cpf\n",
    "\n",
    "base = [1,5,2,87,31]"
   ]
  },
  {
   "cell_type": "code",
   "execution_count": 15,
   "id": "78d58bf6-cdfb-4fe5-a619-a2c4c153c283",
   "metadata": {},
   "outputs": [],
   "source": [
    "# Código do programador\n",
    "\n",
    "## Alocação de memória\n",
    "\n",
    "lista = base\n",
    "achou = False\n",
    "posicao = 0\n",
    "cpf = 0\n"
   ]
  },
  {
   "cell_type": "code",
   "execution_count": 16,
   "id": "fdfddba2-f36e-4282-819d-916f5267ff70",
   "metadata": {},
   "outputs": [
    {
     "name": "stdin",
     "output_type": "stream",
     "text": [
      "Digite o valor a procurar:  7\n"
     ]
    }
   ],
   "source": [
    "# Leitura de dados\n",
    "\n",
    "cpf = int(input(\"Digite o valor a procurar: \"))"
   ]
  },
  {
   "cell_type": "code",
   "execution_count": 17,
   "id": "191a34a2-1bb5-4b78-a64a-0cf56d07d199",
   "metadata": {},
   "outputs": [
    {
     "name": "stdout",
     "output_type": "stream",
     "text": [
      "7\n"
     ]
    }
   ],
   "source": [
    "print(cpf) # debug com print"
   ]
  },
  {
   "cell_type": "code",
   "execution_count": 18,
   "id": "15b9273e-fc07-4514-89fa-d4fd4674a265",
   "metadata": {},
   "outputs": [],
   "source": [
    "# Processamento de dados\n",
    "\n",
    "while posicao < len(lista):\n",
    "    if lista[posicao] == cpf:\n",
    "        achou = True\n",
    "        break\n",
    "    posicao += 1 # é a mesma coisa que posicao = posicao + 1\n"
   ]
  },
  {
   "cell_type": "code",
   "execution_count": 19,
   "id": "c254f8b9-d016-4cf1-8d81-6f1e2234941d",
   "metadata": {},
   "outputs": [
    {
     "name": "stdout",
     "output_type": "stream",
     "text": [
      "\n",
      "O valor 7 não foi achado.\n"
     ]
    }
   ],
   "source": [
    "# Saída de dados\n",
    "\n",
    "if achou:\n",
    "    print(f'\\nO valor {cpf} foi achado na posição {posicao}.')\n",
    "else:\n",
    "    print(f'\\nO valor {cpf} não foi achado.')\n"
   ]
  },
  {
   "cell_type": "code",
   "execution_count": null,
   "id": "13297668-e9d8-431c-a00d-1101287f8f4b",
   "metadata": {},
   "outputs": [],
   "source": []
  }
 ],
 "metadata": {
  "kernelspec": {
   "display_name": "Python 3 (ipykernel)",
   "language": "python",
   "name": "python3"
  },
  "language_info": {
   "codemirror_mode": {
    "name": "ipython",
    "version": 3
   },
   "file_extension": ".py",
   "mimetype": "text/x-python",
   "name": "python",
   "nbconvert_exporter": "python",
   "pygments_lexer": "ipython3",
   "version": "3.11.5"
  }
 },
 "nbformat": 4,
 "nbformat_minor": 5
}
