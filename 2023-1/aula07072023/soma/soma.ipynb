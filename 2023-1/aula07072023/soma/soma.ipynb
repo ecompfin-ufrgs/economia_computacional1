{
 "cells": [
  {
   "cell_type": "markdown",
   "id": "18158747",
   "metadata": {},
   "source": [
    "# Soma sequencial\n",
    "\n",
    "\n",
    "\n"
   ]
  },
  {
   "cell_type": "code",
   "execution_count": 1,
   "id": "a32ea196",
   "metadata": {},
   "outputs": [],
   "source": [
    "# Atribuição de variáveis\n",
    "\n",
    "numero_1 = 0\n",
    "\n",
    "numero_2 = 0\n",
    "\n",
    "soma = 0"
   ]
  },
  {
   "cell_type": "code",
   "execution_count": 2,
   "id": "c4ec99f2",
   "metadata": {},
   "outputs": [
    {
     "name": "stdout",
     "output_type": "stream",
     "text": [
      "Digite o primeiro número: 2\n",
      "Digite o segundo número: 3\n"
     ]
    }
   ],
   "source": [
    "# Entrada de dados\n",
    "\n",
    "numero_1 = float(input(\"Digite o primeiro número: \"))\n",
    "\n",
    "numero_2 = float(input(\"Digite o segundo número: \"))\n",
    "\n"
   ]
  },
  {
   "cell_type": "code",
   "execution_count": 3,
   "id": "e82e55d2",
   "metadata": {},
   "outputs": [],
   "source": [
    "# Processamento de dados\n",
    "\n",
    "soma = numero_1 + numero_2"
   ]
  },
  {
   "cell_type": "code",
   "execution_count": 4,
   "id": "9860ecff",
   "metadata": {},
   "outputs": [
    {
     "name": "stdout",
     "output_type": "stream",
     "text": [
      "A soma do numero 2.0 com o número 3.0 é igual a 5.0.\n"
     ]
    }
   ],
   "source": [
    "# Saída de dados\n",
    "\n",
    "print(f\"A soma do numero {numero_1} com o número {numero_2} é igual a {soma}.\")"
   ]
  },
  {
   "cell_type": "markdown",
   "id": "3028710f",
   "metadata": {},
   "source": [
    "## Soma estruturado\n",
    "\n",
    "\n"
   ]
  },
  {
   "cell_type": "code",
   "execution_count": 16,
   "id": "0154e061",
   "metadata": {},
   "outputs": [],
   "source": [
    "# Atribuição de variáveis\n",
    "\n",
    "numeros = []\n",
    "\n",
    "soma = 0\n",
    "\n",
    "i = 0 # contador de números"
   ]
  },
  {
   "cell_type": "code",
   "execution_count": 17,
   "id": "219acab7",
   "metadata": {},
   "outputs": [
    {
     "name": "stdout",
     "output_type": "stream",
     "text": [
      "Digite o número 1: 5\n",
      "Digite o número 2: 9\n"
     ]
    }
   ],
   "source": [
    "# Entrada de dados\n",
    "\n",
    "while i < 2:\n",
    "    numeros.append(float(input(f\"Digite o número {i + 1}: \")))\n",
    "    i+=1\n"
   ]
  },
  {
   "cell_type": "code",
   "execution_count": 14,
   "id": "8ad1b5dc",
   "metadata": {},
   "outputs": [],
   "source": [
    "# Processamento de dados 1\n",
    "\n",
    "soma = numeros[0] + numeros[1]"
   ]
  },
  {
   "cell_type": "code",
   "execution_count": 18,
   "id": "4649d731",
   "metadata": {},
   "outputs": [],
   "source": [
    "# Processamento de dados 2\n",
    "\n",
    "for numero in numeros:\n",
    "    soma+=numero"
   ]
  },
  {
   "cell_type": "code",
   "execution_count": 19,
   "id": "2810bf5f",
   "metadata": {},
   "outputs": [
    {
     "name": "stdout",
     "output_type": "stream",
     "text": [
      "A soma do numero 5.0 com o número 9.0 é igual a 14.0.\n"
     ]
    }
   ],
   "source": [
    "# Saída de dados\n",
    "\n",
    "print(f\"A soma do numero {numeros[0]} com o número {numeros[1]} é igual a {soma}.\")"
   ]
  },
  {
   "cell_type": "markdown",
   "id": "dca87abb",
   "metadata": {},
   "source": [
    "# Soma procedural v. 0.0.1"
   ]
  },
  {
   "cell_type": "code",
   "execution_count": 28,
   "id": "41b7b3b5",
   "metadata": {},
   "outputs": [],
   "source": [
    "# Atribuição de variáveis\n",
    "\n",
    "numeros = []\n",
    "\n",
    "soma = 0\n",
    "\n",
    "i = 0 # contador de números\n",
    "\n",
    "# Entrada de dados\n",
    "\n",
    "\n",
    "\n",
    "# Processamento de dados\n",
    "def adicao(x, y):\n",
    "    return x + y\n",
    "\n",
    "\n",
    "\n"
   ]
  },
  {
   "cell_type": "code",
   "execution_count": 24,
   "id": "c801a777",
   "metadata": {},
   "outputs": [
    {
     "name": "stdout",
     "output_type": "stream",
     "text": [
      "Digite o número 1: 3\n",
      "Digite o número 2: 5\n"
     ]
    }
   ],
   "source": [
    "# Entrada de dados\n",
    "\n",
    "while i < 2:\n",
    "    numeros.append(float(input(f\"Digite o número {i + 1}: \")))\n",
    "    i+=1\n"
   ]
  },
  {
   "cell_type": "code",
   "execution_count": 25,
   "id": "e6abdc89",
   "metadata": {},
   "outputs": [],
   "source": [
    "# Processamento de dados\n",
    "\n",
    "soma = adicao(numeros[0], numeros[1])"
   ]
  },
  {
   "cell_type": "code",
   "execution_count": 26,
   "id": "18c92e1e",
   "metadata": {},
   "outputs": [
    {
     "name": "stdout",
     "output_type": "stream",
     "text": [
      "A soma do numero 3.0 com o número 5.0 é igual a 8.0.\n"
     ]
    }
   ],
   "source": [
    "# Saída de dados\n",
    "\n",
    "print(f\"A soma do numero {numeros[0]} com o número {numeros[1]} é igual a {soma}.\")"
   ]
  },
  {
   "cell_type": "code",
   "execution_count": 27,
   "id": "8c3dfd6e",
   "metadata": {},
   "outputs": [
    {
     "data": {
      "text/plain": [
       "30"
      ]
     },
     "execution_count": 27,
     "metadata": {},
     "output_type": "execute_result"
    }
   ],
   "source": [
    "adicao(9,21)"
   ]
  },
  {
   "cell_type": "markdown",
   "id": "f1d4e25f",
   "metadata": {},
   "source": [
    "# Soma procedural v. 0.0.2\n",
    "\n"
   ]
  },
  {
   "cell_type": "code",
   "execution_count": 33,
   "id": "7c6c111d",
   "metadata": {},
   "outputs": [],
   "source": [
    "# Atribuição de variáveis\n",
    "\n",
    "numeros = []\n",
    "\n",
    "soma = 0\n",
    "\n",
    "i = 0 # contador de números\n",
    "\n",
    "# Entrada de dados\n",
    "\n",
    "def leitora_numeros():\n",
    "    i = 0\n",
    "    while i < 2:\n",
    "        numeros.append(float(input(f\"Digite o número {i + 1}: \")))\n",
    "        i+=1\n",
    "    return numeros\n",
    "\n",
    "\n",
    "# Processamento de dados\n",
    "def adicao(x, y):\n",
    "    return x + y\n",
    "\n",
    "\n",
    "# Saída de dados\n",
    "\n",
    "def escritora_numeros(x, y, z):\n",
    "    print(f\"A soma do numero {x} com o número {y} é igual a {z}.\")\n",
    "\n"
   ]
  },
  {
   "cell_type": "code",
   "execution_count": 34,
   "id": "5e663b7d",
   "metadata": {},
   "outputs": [
    {
     "name": "stdout",
     "output_type": "stream",
     "text": [
      "Digite o número 1: 8\n",
      "Digite o número 2: 7\n"
     ]
    }
   ],
   "source": [
    "# Entrada de dados\n",
    "\n",
    "numeros = leitora_numeros()"
   ]
  },
  {
   "cell_type": "code",
   "execution_count": 35,
   "id": "0182b50e",
   "metadata": {},
   "outputs": [],
   "source": [
    "# Processamento de dados\n",
    "\n",
    "soma = adicao(numeros[0], numeros[1])"
   ]
  },
  {
   "cell_type": "code",
   "execution_count": 36,
   "id": "f73d555f",
   "metadata": {},
   "outputs": [
    {
     "name": "stdout",
     "output_type": "stream",
     "text": [
      "A soma do numero 8.0 com o número 7.0 é igual a 15.0.\n"
     ]
    }
   ],
   "source": [
    "# Saída de dados\n",
    "\n",
    "escritora_numeros(numeros[0], numeros[1], soma)"
   ]
  },
  {
   "cell_type": "code",
   "execution_count": null,
   "id": "4d85b353",
   "metadata": {},
   "outputs": [],
   "source": []
  }
 ],
 "metadata": {
  "kernelspec": {
   "display_name": "Python 3 (ipykernel)",
   "language": "python",
   "name": "python3"
  },
  "language_info": {
   "codemirror_mode": {
    "name": "ipython",
    "version": 3
   },
   "file_extension": ".py",
   "mimetype": "text/x-python",
   "name": "python",
   "nbconvert_exporter": "python",
   "pygments_lexer": "ipython3",
   "version": "3.10.9"
  }
 },
 "nbformat": 4,
 "nbformat_minor": 5
}
