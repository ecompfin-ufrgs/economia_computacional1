{
 "cells": [
  {
   "cell_type": "markdown",
   "id": "59fcd170-2057-4194-af39-4c9a77527030",
   "metadata": {},
   "source": [
    "# Programa Conversor de distancias\n",
    "\n",
    "Executável: conv_dist.py\n",
    "\n"
   ]
  },
  {
   "cell_type": "markdown",
   "id": "a4d33966-487f-43c5-9f92-d08b9b3cb697",
   "metadata": {},
   "source": [
    "## Problema\n",
    "\n",
    "Fazer um programa que leia um valor em metros e o converta para milíımetros."
   ]
  },
  {
   "cell_type": "markdown",
   "id": "a22ea65c-99ae-42e8-b19c-8e22184730aa",
   "metadata": {},
   "source": [
    "## Projeto\n",
    "\n",
    "Vou usar a conversão de metros para milímetros, multiplicando por 1000 cada unidade de metro."
   ]
  },
  {
   "cell_type": "code",
   "execution_count": 3,
   "id": "ccdeb435-e67f-4d7c-9a41-bfa558789998",
   "metadata": {},
   "outputs": [],
   "source": [
    "# Alocação de memória\n",
    "\n",
    "metros: float = 0\n",
    "\n",
    "milimetros: float = 0\n"
   ]
  },
  {
   "cell_type": "code",
   "execution_count": 6,
   "id": "1273893d-a305-4f43-a947-27b9f29bcd46",
   "metadata": {},
   "outputs": [
    {
     "name": "stdin",
     "output_type": "stream",
     "text": [
      "Digite a distância em metros.  8\n"
     ]
    }
   ],
   "source": [
    "# Entrada de dados\n",
    "\n",
    "metros = float(input(\"Digite a distância em metros. \"))"
   ]
  },
  {
   "cell_type": "code",
   "execution_count": 5,
   "id": "d7f53471-0a4a-42ec-be1c-cd133334a089",
   "metadata": {},
   "outputs": [],
   "source": [
    "# Processamento de dados\n",
    "\n",
    "milimetros = 1000*metros"
   ]
  },
  {
   "cell_type": "code",
   "execution_count": 8,
   "id": "e496c885-732b-4674-83cb-afd927d9a810",
   "metadata": {},
   "outputs": [
    {
     "name": "stdout",
     "output_type": "stream",
     "text": [
      "\n",
      "A distância em milímetros é igual a 1732600.0.\n"
     ]
    }
   ],
   "source": [
    "# Saída de dados\n",
    "\n",
    "print(f'\\nA distância em milímetros é igual a {milimetros}.')"
   ]
  },
  {
   "cell_type": "code",
   "execution_count": null,
   "id": "e43355c5-6a1b-473a-9f2b-e3feb1fc90cf",
   "metadata": {},
   "outputs": [],
   "source": []
  }
 ],
 "metadata": {
  "kernelspec": {
   "display_name": "Python 3 (ipykernel)",
   "language": "python",
   "name": "python3"
  },
  "language_info": {
   "codemirror_mode": {
    "name": "ipython",
    "version": 3
   },
   "file_extension": ".py",
   "mimetype": "text/x-python",
   "name": "python",
   "nbconvert_exporter": "python",
   "pygments_lexer": "ipython3",
   "version": "3.11.5"
  }
 },
 "nbformat": 4,
 "nbformat_minor": 5
}
