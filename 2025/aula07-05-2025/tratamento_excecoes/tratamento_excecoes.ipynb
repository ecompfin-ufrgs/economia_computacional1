{
 "cells": [
  {
   "cell_type": "markdown",
   "id": "d45bdfde-9df6-41cc-9bca-12fa29226139",
   "metadata": {},
   "source": [
    "# Tratamento de exceções\n",
    "\n",
    "## Exceção\n",
    "\n"
   ]
  },
  {
   "cell_type": "code",
   "execution_count": 1,
   "id": "d765e140-423e-402f-a286-0a6b069edc43",
   "metadata": {},
   "outputs": [
    {
     "data": {
      "text/plain": [
       "0.6666666666666666"
      ]
     },
     "execution_count": 1,
     "metadata": {},
     "output_type": "execute_result"
    }
   ],
   "source": [
    "2/3"
   ]
  },
  {
   "cell_type": "markdown",
   "id": "b718f2ea-03ec-4879-bf04-9e6a4a66f375",
   "metadata": {},
   "source": [
    "# Divisão por d\n",
    "\n",
    "# Calcule o valor da fração x\n",
    "\n"
   ]
  },
  {
   "cell_type": "code",
   "execution_count": 2,
   "id": "f0179621-83d3-4373-9aa9-f9f531314f8a",
   "metadata": {},
   "outputs": [
    {
     "name": "stdin",
     "output_type": "stream",
     "text": [
      "Digite um número:  4\n"
     ]
    }
   ],
   "source": [
    "# Entrada de dados\n",
    "\n",
    "d = float(input(\"Digite um número: \"))"
   ]
  },
  {
   "cell_type": "code",
   "execution_count": 3,
   "id": "1eeac2cc-4553-4de4-b29e-ddb2b8efde0c",
   "metadata": {},
   "outputs": [],
   "source": [
    "# Cálculo de x\n",
    "\n",
    "x = 7/d"
   ]
  },
  {
   "cell_type": "code",
   "execution_count": 4,
   "id": "7022439b-c5ef-4590-90fa-16dd7070b12a",
   "metadata": {},
   "outputs": [
    {
     "name": "stdout",
     "output_type": "stream",
     "text": [
      "1.75\n"
     ]
    }
   ],
   "source": [
    "# Saída de dados\n",
    "\n",
    "print(x)"
   ]
  },
  {
   "cell_type": "code",
   "execution_count": null,
   "id": "16584c14-761f-4aa2-8ef3-79959e5ee907",
   "metadata": {},
   "outputs": [],
   "source": []
  }
 ],
 "metadata": {
  "kernelspec": {
   "display_name": "Python [conda env:base] *",
   "language": "python",
   "name": "conda-base-py"
  },
  "language_info": {
   "codemirror_mode": {
    "name": "ipython",
    "version": 3
   },
   "file_extension": ".py",
   "mimetype": "text/x-python",
   "name": "python",
   "nbconvert_exporter": "python",
   "pygments_lexer": "ipython3",
   "version": "3.12.7"
  }
 },
 "nbformat": 4,
 "nbformat_minor": 5
}
